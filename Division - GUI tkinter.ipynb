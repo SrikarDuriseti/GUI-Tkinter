{
 "cells": [
  {
   "cell_type": "code",
   "execution_count": 1,
   "id": "96c14a13",
   "metadata": {},
   "outputs": [],
   "source": [
    "from tkinter import *\n",
    "\n",
    "def divide():\n",
    "    try:\n",
    "        e3.delete(0, END)\n",
    "        e3.config(fg=\"red\")\n",
    "        a=int(e1.get())\n",
    "        b=int(e2.get())\n",
    "        c=a/b\n",
    "        e3.config(fg=\"green\")\n",
    "        e3.insert(0,str(c))\n",
    "    except ZeroDivisionError:\n",
    "        e3.insert(0,\"Can't Divide by 0!\")\n",
    "    except ValueError:\n",
    "        e3.insert(0,\"Only digits allowed!\")\n",
    "\n",
    "def clear():\n",
    "    e1.delete(0, END)\n",
    "    e2.delete(0, END)\n",
    "    e3.delete(0, END)\n",
    "    e1.focus()\n",
    "\n",
    "def finish():\n",
    "    root.destroy()\n",
    "    \n",
    "root = Tk()\n",
    "root.geometry('400x200+100+200')\n",
    "l1=Label(root, text=\"Number Division Program\",font=\"Arial 18 bold\")\n",
    "l2=Label(root, text=\"First No:\")\n",
    "l3=Label(root, text=\"Second No:\")\n",
    "l4=Label(root,text=\"Result:\")\n",
    "e1=Entry(root)\n",
    "e2=Entry(root)\n",
    "e3=Entry(root)\n",
    "b1=Button(root,text=\"Divide\",command=divide)\n",
    "b2=Button(root,text=\"Clear\",command=clear)\n",
    "b3=Button(root,text=\"Quit\",command=finish)\n",
    "l1.grid(row=0,column=0,columnspan=4)\n",
    "l2.grid(row=1,column=0,sticky=E)\n",
    "e1.grid(row=1,column=1)\n",
    "l3.grid(row=2,column=0,sticky=E)\n",
    "e2.grid(row=2,column=1)\n",
    "l4.grid(row=3,column=0,sticky=E)\n",
    "e3.grid(row=3,column=1)\n",
    "b1.grid(row=4,column=0,pady=5,padx=5,sticky=E+W)\n",
    "b2.grid(row=4,column=1,pady=5,padx=5,sticky=E+W)\n",
    "b3.grid(row=4,column=2,pady=5,padx=5,sticky=E+W)\n",
    "root.mainloop()\n"
   ]
  },
  {
   "cell_type": "code",
   "execution_count": null,
   "id": "a4fb3824",
   "metadata": {},
   "outputs": [],
   "source": []
  }
 ],
 "metadata": {
  "kernelspec": {
   "display_name": "Python 3",
   "language": "python",
   "name": "python3"
  },
  "language_info": {
   "codemirror_mode": {
    "name": "ipython",
    "version": 3
   },
   "file_extension": ".py",
   "mimetype": "text/x-python",
   "name": "python",
   "nbconvert_exporter": "python",
   "pygments_lexer": "ipython3",
   "version": "3.8.8"
  }
 },
 "nbformat": 4,
 "nbformat_minor": 5
}
